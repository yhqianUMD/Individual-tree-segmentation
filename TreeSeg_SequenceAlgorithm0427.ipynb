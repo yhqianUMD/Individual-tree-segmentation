{
 "cells": [
  {
   "cell_type": "code",
   "execution_count": 1,
   "id": "d5c16652",
   "metadata": {},
   "outputs": [],
   "source": [
    "import pandas as pd\n",
    "import numpy as np\n",
    "import time"
   ]
  },
  {
   "cell_type": "code",
   "execution_count": 2,
   "id": "946ec2f4",
   "metadata": {},
   "outputs": [],
   "source": [
    "ALS_norm = pd.read_csv(\"C:/PhD_study/Programming/python37/GEOG770/data/04_ALS_norm_seg.txt\",sep=\" \",header=None,names=['x','y','ele'])\n",
    "ALS_max = pd.read_csv(\"C:/PhD_study/Programming/python37/GEOG770/data/local_max.txt\",sep=\" \",header=None,names=['x','y','ele'])"
   ]
  },
  {
   "cell_type": "code",
   "execution_count": 3,
   "id": "8e7f484a",
   "metadata": {},
   "outputs": [],
   "source": [
    "def equal_num(a, b):\n",
    "    temp = abs(a-b)\n",
    "    if temp < 0.00001:\n",
    "        return True\n",
    "    else:\n",
    "        return False"
   ]
  },
  {
   "cell_type": "code",
   "execution_count": 4,
   "id": "9728ba60",
   "metadata": {},
   "outputs": [],
   "source": [
    "def get_highest_pt(U):\n",
    "    index_ele_max_U = U.idxmax()[2] # the 2nd col denotes elevation\n",
    "    pt_max = pd.Series([U['x'][index_ele_max_U], U['y'][index_ele_max_U], U['ele'][index_ele_max_U]])\n",
    "    return pt_max, index_ele_max_U\n",
    "    "
   ]
  },
  {
   "cell_type": "code",
   "execution_count": 5,
   "id": "fcb87617",
   "metadata": {},
   "outputs": [],
   "source": [
    "# U is used to store the whole points\n",
    "U = pd.read_csv(\"C:/PhD_study/Programming/python37/GEOG770/data/04_ALS_norm_seg.txt\",sep=\" \",header=None,names=['x','y','ele'])\n",
    "\n",
    "#P = pd.DataFrame(columns=['x','y','ele'])\n",
    "\n",
    "# P will store points belonging to the highest tree\n",
    "P = pd.DataFrame()\n",
    "\n",
    "# N will store points not belonging to the highest tree\n",
    "N = pd.DataFrame()\n",
    "\n",
    "# obtain the index of the point with maximum elevation in ALS_norm\n",
    "# index_ele_max_U = U.idxmax()[2] # the 2nd col denotes elevation\n",
    "# pt_max = pd.Series([U['x'][index_ele_max_U], U['y'][index_ele_max_U], U['ele'][index_ele_max_U]])\n",
    "pt_max, pt_max_index = get_highest_pt(U)\n",
    "\n",
    "# adding the highest point to P\n",
    "P = P.append({'x':pt_max[0],'y':pt_max[1],'ele':pt_max[2]}, ignore_index=True)\n",
    "\n",
    "# remove the highest point from U\n",
    "U.drop(labels=pt_max_index,inplace=True)\n",
    "U = U.reset_index(drop=True)"
   ]
  },
  {
   "cell_type": "code",
   "execution_count": 6,
   "id": "d0acc4ac",
   "metadata": {},
   "outputs": [],
   "source": [
    "# find a point far away from index_ele_max_U and add this point to N\n",
    "for i in range(len(U)):\n",
    "    dis = np.sqrt((pt_max[0] - U['x'][i])**2 + (pt_max[1] - U['y'][i])**2)\n",
    "    if dis > 50:\n",
    "        N = N.append({'x':U['x'][i],'y':U['y'][i],'ele':U['ele'][i]}, ignore_index=True)\n",
    "        N.drop_duplicates(keep='first', inplace=True) # drop the duplicates if existing\n",
    "        U.drop(labels=pt_max_index,inplace=True)\n",
    "        U = U.reset_index(drop=True)\n",
    "        break"
   ]
  },
  {
   "cell_type": "code",
   "execution_count": 8,
   "id": "493c9beb",
   "metadata": {},
   "outputs": [],
   "source": [
    "def min_dis(df, pt):\n",
    "    dis_min = np.sqrt((pt[0] - df['x'][0])**2 + (pt[1] - df['y'][0])**2)\n",
    "    if len(df) > 1:\n",
    "        for i in range(1, len(df)):\n",
    "            dis = np.sqrt((pt[0] - df['x'][i])**2 + (pt[1] - df['y'][i])**2)\n",
    "            if dis_min > dis:\n",
    "                dis_min = dis\n",
    "    \n",
    "    return dis_min        "
   ]
  },
  {
   "cell_type": "code",
   "execution_count": 9,
   "id": "0018df5f",
   "metadata": {},
   "outputs": [],
   "source": [
    "def Max_contain(df, pt):\n",
    "    for i in range(len(df)):\n",
    "        if equal_num(df['x'][i],pt[0]) and equal_num(df['y'][i],pt[1]) and equal_num(df['ele'][i],pt[2]):\n",
    "            return True"
   ]
  },
  {
   "cell_type": "code",
   "execution_count": 11,
   "id": "61dfa4ac",
   "metadata": {},
   "outputs": [
    {
     "name": "stdout",
     "output_type": "stream",
     "text": [
      "time: 11481.762405872345\n"
     ]
    }
   ],
   "source": [
    "t0 = time.time()\n",
    "dis_thre = 2.0\n",
    "for i in range(len(U)):\n",
    "    # us is the highest point in U, uz is a pd.series object\n",
    "    uz, uz_index = get_highest_pt(U)\n",
    "    dis_min_P = min_dis(P,uz)\n",
    "    dis_min_N = min_dis(N,uz)\n",
    "    # judge if uz is the local maximum point\n",
    "    if Max_contain(ALS_max, uz):\n",
    "        if dis_min_P > dis_thre:\n",
    "            N = N.append({'x':uz[0],'y':uz[1],'ele':uz[2]}, ignore_index=True)\n",
    "        if dis_min_P <= dis_thre and dis_min_P <= dis_min_N:\n",
    "            P = P.append({'x':uz[0],'y':uz[1],'ele':uz[2]}, ignore_index=True)\n",
    "        if dis_min_P <= dis_thre and dis_min_P > dis_min_N:\n",
    "            N = N.append({'x':uz[0],'y':uz[1],'ele':uz[2]}, ignore_index=True)\n",
    "    else:\n",
    "        if dis_min_P <= dis_min_N:\n",
    "            P = P.append({'x':uz[0],'y':uz[1],'ele':uz[2]}, ignore_index=True)\n",
    "        if dis_min_P > dis_min_N:\n",
    "            N = N.append({'x':uz[0],'y':uz[1],'ele':uz[2]}, ignore_index=True)\n",
    "    \n",
    "    # remove uz from U\n",
    "    U.drop(labels=uz_index,inplace=True)\n",
    "    U = U.reset_index(drop=True)\n",
    "t1 = time.time()\n",
    "print(\"time:\",t1-t0)"
   ]
  },
  {
   "cell_type": "code",
   "execution_count": 12,
   "id": "7040c8f4",
   "metadata": {},
   "outputs": [
    {
     "data": {
      "text/plain": [
       "0"
      ]
     },
     "execution_count": 12,
     "metadata": {},
     "output_type": "execute_result"
    }
   ],
   "source": [
    "len(U)"
   ]
  },
  {
   "cell_type": "code",
   "execution_count": 13,
   "id": "97da8965",
   "metadata": {},
   "outputs": [
    {
     "data": {
      "text/plain": [
       "1168"
      ]
     },
     "execution_count": 13,
     "metadata": {},
     "output_type": "execute_result"
    }
   ],
   "source": [
    "len(P)"
   ]
  },
  {
   "cell_type": "code",
   "execution_count": 14,
   "id": "c11193ed",
   "metadata": {},
   "outputs": [
    {
     "data": {
      "text/plain": [
       "30962"
      ]
     },
     "execution_count": 14,
     "metadata": {},
     "output_type": "execute_result"
    }
   ],
   "source": [
    "len(N)"
   ]
  },
  {
   "cell_type": "code",
   "execution_count": 15,
   "id": "bfbc24aa",
   "metadata": {},
   "outputs": [
    {
     "data": {
      "text/html": [
       "<div>\n",
       "<style scoped>\n",
       "    .dataframe tbody tr th:only-of-type {\n",
       "        vertical-align: middle;\n",
       "    }\n",
       "\n",
       "    .dataframe tbody tr th {\n",
       "        vertical-align: top;\n",
       "    }\n",
       "\n",
       "    .dataframe thead th {\n",
       "        text-align: right;\n",
       "    }\n",
       "</style>\n",
       "<table border=\"1\" class=\"dataframe\">\n",
       "  <thead>\n",
       "    <tr style=\"text-align: right;\">\n",
       "      <th></th>\n",
       "      <th>ele</th>\n",
       "      <th>x</th>\n",
       "      <th>y</th>\n",
       "    </tr>\n",
       "  </thead>\n",
       "  <tbody>\n",
       "    <tr>\n",
       "      <th>0</th>\n",
       "      <td>2.813000e+01</td>\n",
       "      <td>320551.419998</td>\n",
       "      <td>4.990802e+06</td>\n",
       "    </tr>\n",
       "    <tr>\n",
       "      <th>1</th>\n",
       "      <td>2.765000e+01</td>\n",
       "      <td>320551.439999</td>\n",
       "      <td>4.990801e+06</td>\n",
       "    </tr>\n",
       "    <tr>\n",
       "      <th>2</th>\n",
       "      <td>2.740000e+01</td>\n",
       "      <td>320551.650002</td>\n",
       "      <td>4.990802e+06</td>\n",
       "    </tr>\n",
       "    <tr>\n",
       "      <th>3</th>\n",
       "      <td>2.733000e+01</td>\n",
       "      <td>320551.029999</td>\n",
       "      <td>4.990802e+06</td>\n",
       "    </tr>\n",
       "    <tr>\n",
       "      <th>4</th>\n",
       "      <td>2.724000e+01</td>\n",
       "      <td>320551.849999</td>\n",
       "      <td>4.990802e+06</td>\n",
       "    </tr>\n",
       "    <tr>\n",
       "      <th>...</th>\n",
       "      <td>...</td>\n",
       "      <td>...</td>\n",
       "      <td>...</td>\n",
       "    </tr>\n",
       "    <tr>\n",
       "      <th>1163</th>\n",
       "      <td>4.657054e-08</td>\n",
       "      <td>320549.209999</td>\n",
       "      <td>4.990795e+06</td>\n",
       "    </tr>\n",
       "    <tr>\n",
       "      <th>1164</th>\n",
       "      <td>-1.000020e-02</td>\n",
       "      <td>320558.530003</td>\n",
       "      <td>4.990807e+06</td>\n",
       "    </tr>\n",
       "    <tr>\n",
       "      <th>1165</th>\n",
       "      <td>-1.999995e-02</td>\n",
       "      <td>320553.890000</td>\n",
       "      <td>4.990801e+06</td>\n",
       "    </tr>\n",
       "    <tr>\n",
       "      <th>1166</th>\n",
       "      <td>-5.000014e-02</td>\n",
       "      <td>320552.340000</td>\n",
       "      <td>4.990797e+06</td>\n",
       "    </tr>\n",
       "    <tr>\n",
       "      <th>1167</th>\n",
       "      <td>-3.899998e-01</td>\n",
       "      <td>320554.259998</td>\n",
       "      <td>4.990804e+06</td>\n",
       "    </tr>\n",
       "  </tbody>\n",
       "</table>\n",
       "<p>1168 rows × 3 columns</p>\n",
       "</div>"
      ],
      "text/plain": [
       "               ele              x             y\n",
       "0     2.813000e+01  320551.419998  4.990802e+06\n",
       "1     2.765000e+01  320551.439999  4.990801e+06\n",
       "2     2.740000e+01  320551.650002  4.990802e+06\n",
       "3     2.733000e+01  320551.029999  4.990802e+06\n",
       "4     2.724000e+01  320551.849999  4.990802e+06\n",
       "...            ...            ...           ...\n",
       "1163  4.657054e-08  320549.209999  4.990795e+06\n",
       "1164 -1.000020e-02  320558.530003  4.990807e+06\n",
       "1165 -1.999995e-02  320553.890000  4.990801e+06\n",
       "1166 -5.000014e-02  320552.340000  4.990797e+06\n",
       "1167 -3.899998e-01  320554.259998  4.990804e+06\n",
       "\n",
       "[1168 rows x 3 columns]"
      ]
     },
     "execution_count": 15,
     "metadata": {},
     "output_type": "execute_result"
    }
   ],
   "source": [
    "P"
   ]
  },
  {
   "cell_type": "code",
   "execution_count": 16,
   "id": "6858353c",
   "metadata": {},
   "outputs": [],
   "source": [
    "'''\n",
    "with open(\"C:/PhD_study/Programming/python37/GEOG770/data/tree_highest.txt\", \"w\") as output:\n",
    "    for pid in range(len(P)):\n",
    "        output.write(\"{} {} {}\\n\".format(P['x'][pid], P['y'][pid],P['ele'][pid]))\n",
    "'''"
   ]
  },
  {
   "cell_type": "code",
   "execution_count": null,
   "id": "ccac1e97",
   "metadata": {},
   "outputs": [],
   "source": [
    "with open(\"C:/PhD_study/Programming/python37/GEOG770/data/individual_trees/tree_1_dis_thre80.csv\", \"w\", newline='') as output:\n",
    "    field_names = ['x_cor', 'y_cor', 'elevation']\n",
    "    writer = csv.DictWriter(output, fieldnames=field_names)\n",
    "    # writer.writeheader()\n",
    "    for pid in range(len(P)):\n",
    "        #output.write(\"{} {} {}\\n\".format({'x_cor':P['x'][pid], 'y_cor':P['y'][pid],'elevation':P['ele'][pid]}))\n",
    "        writer.writerow({'x_cor':P['x'][pid], 'y_cor':P['y'][pid],'elevation':P['ele'][pid]})"
   ]
  },
  {
   "cell_type": "code",
   "execution_count": 17,
   "id": "3124e919",
   "metadata": {},
   "outputs": [
    {
     "data": {
      "text/plain": [
       "3.1893784460756516"
      ]
     },
     "execution_count": 17,
     "metadata": {},
     "output_type": "execute_result"
    }
   ],
   "source": [
    "(t1-t0)/3600"
   ]
  }
 ],
 "metadata": {
  "kernelspec": {
   "display_name": "Python 3",
   "language": "python",
   "name": "python3"
  },
  "language_info": {
   "codemirror_mode": {
    "name": "ipython",
    "version": 3
   },
   "file_extension": ".py",
   "mimetype": "text/x-python",
   "name": "python",
   "nbconvert_exporter": "python",
   "pygments_lexer": "ipython3",
   "version": "3.8.8"
  }
 },
 "nbformat": 4,
 "nbformat_minor": 5
}
